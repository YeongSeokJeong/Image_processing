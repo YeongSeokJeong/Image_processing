{
 "cells": [
  {
   "cell_type": "code",
   "execution_count": 1,
   "metadata": {},
   "outputs": [],
   "source": [
    "import numpy as np"
   ]
  },
  {
   "cell_type": "markdown",
   "metadata": {},
   "source": [
    "# 과제 1."
   ]
  },
  {
   "cell_type": "code",
   "execution_count": 17,
   "metadata": {},
   "outputs": [
    {
     "name": "stdout",
     "output_type": "stream",
     "text": [
      "[ 1  2  3  4  5  6  7  8  9 10 11 12 13 14 15 16 17 18 19 20 21 22 23 24\n",
      " 25 26 27 28 29 30 31 32 33 34 35 36 37 38 39 40 41 42 43 44 45 46 47 48\n",
      " 49 50]\n"
     ]
    }
   ],
   "source": [
    "arr1 = np.arange(1,51)# arange함수를 사용하여 1 ~ 51미만의 정수로 구성된 배열 선언\n",
    "print(arr1)"
   ]
  },
  {
   "cell_type": "code",
   "execution_count": 18,
   "metadata": {},
   "outputs": [
    {
     "name": "stdout",
     "output_type": "stream",
     "text": [
      "짝수 배열 :\n",
      " [[ 2  4  6  8 10]\n",
      " [12 14 16 18 20]\n",
      " [22 24 26 28 30]\n",
      " [32 34 36 38 40]\n",
      " [42 44 46 48 50]] \n",
      "홀수 배열 :\n",
      " [[ 2  4  6  8 10]\n",
      " [12 14 16 18 20]\n",
      " [22 24 26 28 30]\n",
      " [32 34 36 38 40]\n",
      " [42 44 46 48 50]]\n"
     ]
    }
   ],
   "source": [
    "arr2 = arr1[np.where(arr1%2==0)].reshape((5,5))# 짝수 조건을 통과한 원소는 reshape을 통해 5 x 5 로 변환\n",
    "arr3 = arr1[np.where(arr1%2==1)].reshape((5,5))# 홀수 조건을 통과한 원소를 reshape을 통해 5 x 5 로 변환\n",
    "print(\"짝수 배열 :\\n\", arr2,'\\n홀수 배열 :\\n',arr2)"
   ]
  },
  {
   "cell_type": "code",
   "execution_count": 19,
   "metadata": {},
   "outputs": [
    {
     "name": "stdout",
     "output_type": "stream",
     "text": [
      "짝수 배열을 전치 변환 :\n",
      " [[ 2 12 22 32 42]\n",
      " [ 4 14 24 34 44]\n",
      " [ 6 16 26 36 46]\n",
      " [ 8 18 28 38 48]\n",
      " [10 20 30 40 50]] \n",
      "홀수 배열을 전치 변환 :\n",
      " [[ 1 11 21 31 41]\n",
      " [ 3 13 23 33 43]\n",
      " [ 5 15 25 35 45]\n",
      " [ 7 17 27 37 47]\n",
      " [ 9 19 29 39 49]]\n"
     ]
    }
   ],
   "source": [
    "arr2 = np.transpose(arr2)# 짝수 배열을 전치변환\n",
    "arr3 = np.transpose(arr3)# 홀수 배열을 전치변환\n",
    "print(\"짝수 배열을 전치 변환 :\\n\", arr2,'\\n홀수 배열을 전치 변환 :\\n',arr3)"
   ]
  },
  {
   "cell_type": "code",
   "execution_count": 20,
   "metadata": {},
   "outputs": [
    {
     "name": "stdout",
     "output_type": "stream",
     "text": [
      "[[ 830 1880 2930 3980 5030]\n",
      " [ 890 2040 3190 4340 5490]\n",
      " [ 950 2200 3450 4700 5950]\n",
      " [1010 2360 3710 5060 6410]\n",
      " [1070 2520 3970 5420 6870]]\n"
     ]
    }
   ],
   "source": [
    "arr4 = np.dot(arr3, arr2)# 홀수 배열과 짝수 배열을 내적\n",
    "print(arr4)"
   ]
  },
  {
   "cell_type": "markdown",
   "metadata": {},
   "source": [
    "# 과제 2."
   ]
  },
  {
   "cell_type": "code",
   "execution_count": 53,
   "metadata": {},
   "outputs": [
    {
     "name": "stdout",
     "output_type": "stream",
     "text": [
      "두 배열에 모두 존재하는 요소 :  [2 5 4 9 0 7] \n",
      "두 배열에 모두 존재하는 요소의 색인 위치 : (array([ 1,  3,  5,  8, 10, 12], dtype=int64),)\n"
     ]
    }
   ],
   "source": [
    "li1 = np.array([1, 2, 3, 5, 3, 4, 3, 6, 9, 7, 0, 8, 7, 10])\n",
    "li2 = np.array([7, 2, 10, 5, 7, 4, 9, 1, 9, 8, 0, 3, 7, 6])\n",
    "li3 = li1[np.where(li1==li2)]#li1과 li2의 서로 같은 인덱스에서 같은 숫자인경우 만 배열로 변환\n",
    "li4 = np.where(li1 == li2) # li1과 li2에서 모두 존재하는 요소의 색인을 저장함\n",
    "print(\"두 배열에 모두 존재하는 요소 : \", li3, '\\n두 배열에 모두 존재하는 요소의 색인 위치 :', li4)"
   ]
  },
  {
   "cell_type": "code",
   "execution_count": 54,
   "metadata": {},
   "outputs": [
    {
     "name": "stdout",
     "output_type": "stream",
     "text": [
      "[[2 5 4]\n",
      " [9 0 7]]\n"
     ]
    }
   ],
   "source": [
    "li3 = li3.reshape((2,3))# 2행 3열의 형태로 배열의 형태를 변환한다.\n",
    "print(li3)"
   ]
  },
  {
   "cell_type": "code",
   "execution_count": 45,
   "metadata": {},
   "outputs": [
    {
     "name": "stdout",
     "output_type": "stream",
     "text": [
      "배열의 최대값 :  [9 5 7] 최대값의 색인 위치 :  [1 0 1]\n"
     ]
    }
   ],
   "source": [
    "li3_max = np.max(li3, axis = 0)# 배열의 최대값을 저장하는 배열 선언 aixs = 0은 열을 기준으로 함\n",
    "li3_argmax = np.argmax(li3, axis = 0)# 배열의 최대값의 index를 저장하는 배열 선언\n",
    "print('배열의 최대값 : ', li3_max, \"최대값의 색인 위치 : \", li3_argmax)"
   ]
  },
  {
   "cell_type": "code",
   "execution_count": 47,
   "metadata": {},
   "outputs": [
    {
     "name": "stdout",
     "output_type": "stream",
     "text": [
      "배열의 최솟값 : [2 0] 최솟값의 색인 위치 : [0 1]\n"
     ]
    }
   ],
   "source": [
    "li3_min = np.min(li3, axis = 1)# 배열의 최솟값을 저장하는 배열 선언 axis = 1은 행을 기준으로 함\n",
    "li3_argmin = np.argmin(li3, axis = 1)# 배열의 최솟값의 index를 저장하는 배열 선언\n",
    "print(\"배열의 최솟값 :\", li3_min, '최솟값의 색인 위치 :', li3_argmin)"
   ]
  },
  {
   "cell_type": "code",
   "execution_count": null,
   "metadata": {},
   "outputs": [],
   "source": []
  }
 ],
 "metadata": {
  "kernelspec": {
   "display_name": "Python 3",
   "language": "python",
   "name": "python3"
  },
  "language_info": {
   "codemirror_mode": {
    "name": "ipython",
    "version": 3
   },
   "file_extension": ".py",
   "mimetype": "text/x-python",
   "name": "python",
   "nbconvert_exporter": "python",
   "pygments_lexer": "ipython3",
   "version": "3.6.8"
  }
 },
 "nbformat": 4,
 "nbformat_minor": 4
}

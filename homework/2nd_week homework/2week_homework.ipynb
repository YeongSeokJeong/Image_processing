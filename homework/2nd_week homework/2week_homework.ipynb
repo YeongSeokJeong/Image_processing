{
 "cells": [
  {
   "cell_type": "code",
   "execution_count": 1,
   "metadata": {},
   "outputs": [
    {
     "name": "stdout",
     "output_type": "stream",
     "text": [
      "    *\n",
      "   ***\n",
      "  *****\n",
      " *******\n",
      "*********\n"
     ]
    }
   ],
   "source": [
    "triangle_size = 5 # 별의 높이를 지정하는 변수\n",
    "for i in range(1, triangle_size + 1): # i 에 [1,2,3,4,5]가 순서대로 입력되도록 지정\n",
    "    for _ in range(5 - i): # 5-i의 수만큼 공백이 출력되도록 지정\n",
    "        print(' ', end = '')\n",
    "    for _ in range(2 * i - 1): # 2i-1만큼의 *이 출력되도록 지정\n",
    "        print('*', end = '')\n",
    "    print() # 반복문이 종료되면 줄바꿈 시행"
   ]
  },
  {
   "cell_type": "code",
   "execution_count": 2,
   "metadata": {},
   "outputs": [
    {
     "name": "stdout",
     "output_type": "stream",
     "text": [
      "-----------------------\n",
      "1.덧샘\n",
      "2.뺄셈\n",
      "3.곱셈\n",
      "4.나눗셈\n",
      "5.종료\n",
      "-----------------------\n"
     ]
    },
    {
     "name": "stdin",
     "output_type": "stream",
     "text": [
      "번호를 선택하세요: 1\n",
      "0보다 큰 정수 2개를 입력하세요.: 3,4\n"
     ]
    },
    {
     "name": "stdout",
     "output_type": "stream",
     "text": [
      "3 + 4 = 7\n"
     ]
    }
   ],
   "source": [
    "import sys\n",
    "print('-----------------------')\n",
    "print('1.덧샘\\n2.뺄셈\\n3.곱셈\\n4.나눗셈\\n5.종료')\n",
    "print('-----------------------')\n",
    "input_num = 0\n",
    "while True:\n",
    "    input_num = int(input('번호를 선택하세요:'))\n",
    "    if input_num >= 1 and input_num < 5:\n",
    "        break\n",
    "    if input_num == 5:# 5가 입력시 시스템을 강제로 종료함\n",
    "        sys.exit(0)\n",
    "while True:\n",
    "    num = input(\"0보다 큰 정수 2개를 입력하세요.:\").split(',')# 숫자를 , 단위로 분할한다.\n",
    "    try:# 숫자를 2개를 입력하지 않은 경우 다시 시행시킴\n",
    "        num1, num2 = int(num[0]), int(num[1])\n",
    "    except IndexError: # 예외처리\n",
    "        print(\"2개의 숫자를 입력하세요\")\n",
    "        continue\n",
    "    if num1>0 and num2>0:# 정상적 숫자가 입력된경우 반복문 종료\n",
    "        break\n",
    "# 입력된 계산식에 따라 수행\n",
    "if input_num == 1:\n",
    "    print(num1, '+' , num2, '=', num1+num2)\n",
    "elif input_num == 2:\n",
    "    print(num1, '-' , num2, '=', num1-num2)\n",
    "elif input_num == 3:\n",
    "    print(num1, '*' , num2, '=', num1*num2)\n",
    "elif input_num == 4:\n",
    "    print(num1, '/' , num2, '=', num1/num2)\n"
   ]
  },
  {
   "cell_type": "code",
   "execution_count": 3,
   "metadata": {},
   "outputs": [
    {
     "name": "stdout",
     "output_type": "stream",
     "text": [
      "결과 리스트 : [45, 78]\n"
     ]
    }
   ],
   "source": [
    "li1 = sorted([1, 5, 19, 78, 45, 98]) # 리스트를 선언 및 소팅\n",
    "li2 = [36, 13, 45, 22, 78, 3, 57, 82] # 리스트 선언\n",
    "output_list = [] # 결과를 저장할 리스트 선언\n",
    "for i in li1: # 반복문을 통한 원소 접근\n",
    "    if i in li2: # 원소가 li2에 있는 경우에 조건문 통과\n",
    "        output_list.append(i)\n",
    "print(\"결과 리스트 :\", output_list)"
   ]
  }
 ],
 "metadata": {
  "kernelspec": {
   "display_name": "Python 3",
   "language": "python",
   "name": "python3"
  },
  "language_info": {
   "codemirror_mode": {
    "name": "ipython",
    "version": 3
   },
   "file_extension": ".py",
   "mimetype": "text/x-python",
   "name": "python",
   "nbconvert_exporter": "python",
   "pygments_lexer": "ipython3",
   "version": "3.6.8"
  }
 },
 "nbformat": 4,
 "nbformat_minor": 4
}
